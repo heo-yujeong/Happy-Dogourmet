{
 "cells": [
  {
   "cell_type": "markdown",
   "metadata": {
    "id": "Kb5QRLXAQUpB"
   },
   "source": [
    "# - VGGNet(VGG16)"
   ]
  },
  {
   "cell_type": "code",
   "execution_count": 2,
   "metadata": {
    "id": "cTTTIgbzQUpG"
   },
   "outputs": [],
   "source": [
    "import os, glob\n",
    "import numpy as np\n",
    "import matplotlib.pyplot as plt\n",
    "from PIL import Image\n",
    "\n",
    "from sklearn.model_selection import train_test_split\n",
    "\n",
    "from tensorflow.keras.models import Sequential\n",
    "from tensorflow.keras.layers import Convolution2D, MaxPooling2D, ZeroPadding2D, Flatten, Dense, Dropout\n",
    "from tensorflow.keras.callbacks import EarlyStopping, ModelCheckpoint\n",
    "from keras import backend as K\n",
    "from tensorflow.keras.preprocessing.image import ImageDataGenerator"
   ]
  },
  {
   "cell_type": "code",
   "execution_count": 3,
   "metadata": {
    "id": "FKQ27AFJQUpT"
   },
   "outputs": [],
   "source": [
    "img_dir = 'Images3'\n",
    "categories = os.listdir(img_dir)\n",
    "num_classes = len(categories)"
   ]
  },
  {
   "cell_type": "code",
   "execution_count": 4,
   "metadata": {
    "id": "Fkp_51XbQUpg"
   },
   "outputs": [],
   "source": [
    "image_w = 224\n",
    "image_h = 224"
   ]
  },
  {
   "cell_type": "code",
   "execution_count": 5,
   "metadata": {
    "id": "YDSt5FK8QUps"
   },
   "outputs": [
    {
     "name": "stdout",
     "output_type": "stream",
     "text": [
      "0 ) n02085620-Chihuahua  파일 길이 :  152\n",
      "1 ) n02085782-Japanese_spaniel  파일 길이 :  185\n",
      "2 ) n02085936-Maltese_dog  파일 길이 :  252\n",
      "3 ) n02086079-Pekinese  파일 길이 :  149\n",
      "4 ) n02086240-Shih-Tzu  파일 길이 :  214\n",
      "5 ) n02086646-Blenheim_spaniel  파일 길이 :  188\n",
      "6 ) n02086910-papillon  파일 길이 :  196\n",
      "7 ) n02088364-beagle  파일 길이 :  195\n",
      "8 ) n02088466-bloodhound  파일 길이 :  187\n",
      "9 ) n02089078-black-and-tan_coonhound  파일 길이 :  159\n",
      "10 ) n02089867-Walker_hound  파일 길이 :  153\n",
      "11 ) n02089973-English_foxhound  파일 길이 :  157\n",
      "12 ) n02091032-Italian_greyhound  파일 길이 :  182\n",
      "13 ) n02091134-whippet  파일 길이 :  187\n",
      "14 ) n02093256-Staffordshire_bullterrier  파일 길이 :  155\n",
      "15 ) n02093647-Bedlington_terrier  파일 길이 :  182\n",
      "16 ) n02094258-Norwich_terrier  파일 길이 :  185\n",
      "17 ) n02094433-Yorkshire_terrier  파일 길이 :  164\n",
      "18 ) n02096294-Australian_terrier  파일 길이 :  196\n",
      "19 ) n02096585-Boston_bull  파일 길이 :  182\n",
      "20 ) n02097047-miniature_schnauzer  파일 길이 :  154\n",
      "21 ) n02097209-standard_schnauzer  파일 길이 :  155\n",
      "22 ) n02097658-silky_terrier  파일 길이 :  183\n",
      "23 ) n02098286-West_Highland_white_terrier  파일 길이 :  169\n",
      "24 ) n02098413-Lhasa  파일 길이 :  186\n",
      "25 ) n02099601-golden_retriever  파일 길이 :  150\n",
      "26 ) n02099712-Labrador_retriever  파일 길이 :  171\n",
      "27 ) n02100583-vizsla  파일 길이 :  154\n",
      "28 ) n02100735-English_setter  파일 길이 :  161\n",
      "29 ) n02102177-Welsh_springer_spaniel  파일 길이 :  150\n",
      "30 ) n02102318-cocker_spaniel  파일 길이 :  159\n",
      "31 ) n02104029-kuvasz  파일 길이 :  150\n",
      "32 ) n02105162-malinois  파일 길이 :  150\n",
      "33 ) n02105855-Shetland_sheepdog  파일 길이 :  157\n",
      "34 ) n02106030-collie  파일 길이 :  153\n",
      "35 ) n02106166-Border_collie  파일 길이 :  150\n",
      "36 ) n02106550-Rottweiler  파일 길이 :  152\n",
      "37 ) n02106662-German_shepherd  파일 길이 :  152\n",
      "38 ) n02107142-Doberman  파일 길이 :  150\n",
      "39 ) n02107312-miniature_pinscher  파일 길이 :  184\n",
      "40 ) n02108089-boxer  파일 길이 :  151\n",
      "41 ) n02108551-Tibetan_mastiff  파일 길이 :  152\n",
      "42 ) n02108915-French_bulldog  파일 길이 :  159\n",
      "43 ) n02109047-Great_Dane  파일 길이 :  156\n",
      "44 ) n02109525-Saint_Bernard  파일 길이 :  170\n",
      "45 ) n02109961-Eskimo_dog  파일 길이 :  150\n",
      "46 ) n02110063-malamute  파일 길이 :  178\n",
      "47 ) n02110185-Siberian_husky  파일 길이 :  192\n",
      "48 ) n02110958-pug  파일 길이 :  200\n",
      "49 ) n02111889-Samoyed  파일 길이 :  218\n",
      "50 ) n02112018-Pomeranian  파일 길이 :  219\n",
      "51 ) n02112137-chow  파일 길이 :  196\n",
      "52 ) n02113023-Pembroke  파일 길이 :  181\n",
      "53 ) n02113186-Cardigan  파일 길이 :  155\n",
      "54 ) n02113624-toy_poodle  파일 길이 :  151\n",
      "55 ) n02113712-miniature_poodle  파일 길이 :  155\n",
      "56 ) n02113799-standard_poodle  파일 길이 :  159\n",
      "57 ) n02113980-bichon_frise  파일 길이 :  231\n",
      "58 ) n02113981-shiba_inu  파일 길이 :  225\n",
      "59 ) n02113982-cane_corso  파일 길이 :  224\n",
      "60 ) n02113983-miniature_dachshund  파일 길이 :  162\n",
      "61 ) n02113984-akita  파일 길이 :  217\n",
      "62 ) n02113985-jindodog  파일 길이 :  186\n",
      "63 ) n02113986-coton_de_tulear  파일 길이 :  211\n",
      "64 ) n02113987-spitz  파일 길이 :  203\n"
     ]
    }
   ],
   "source": [
    "X = []\n",
    "y = []\n",
    "\n",
    "for index, breed in enumerate(categories):\n",
    "    label = [0 for i in range(num_classes)]\n",
    "    label[index] = 1\n",
    "\n",
    "    image_dir = img_dir + \"/\" + breed\n",
    "    files = glob.glob(image_dir+\"/*.jpg\")\n",
    "    print(index, \")\", breed, \" 파일 길이 : \", len(files))\n",
    "    for i, f in enumerate(files):\n",
    "        img = Image.open(f)\n",
    "        img = img.convert(\"RGB\")\n",
    "        img = img.resize((image_w, image_h))\n",
    "        data = np.asarray(img)\n",
    "\n",
    "        X.append(data)\n",
    "        y.append(label)"
   ]
  },
  {
   "cell_type": "code",
   "execution_count": 23,
   "metadata": {
    "id": "47nDk1RCQUp8"
   },
   "outputs": [],
   "source": [
    "X = np.array(X)\n",
    "y = np.array(y)"
   ]
  },
  {
   "cell_type": "code",
   "execution_count": 24,
   "metadata": {
    "id": "g5XyWYOcQUqM"
   },
   "outputs": [],
   "source": [
    "n = np.arange(X.shape[0])\n",
    "np.random.seed(0)\n",
    "np.random.shuffle(n)"
   ]
  },
  {
   "cell_type": "code",
   "execution_count": 25,
   "metadata": {
    "id": "1GNhc2vGQUqh"
   },
   "outputs": [],
   "source": [
    "X = X[n]\n",
    "y = y[n]"
   ]
  },
  {
   "cell_type": "code",
   "execution_count": 26,
   "metadata": {
    "id": "_wgGw-JlQUqx"
   },
   "outputs": [
    {
     "name": "stdout",
     "output_type": "stream",
     "text": [
      "Images shape after shuffling =  (11411, 224, 224, 3) \n",
      "Labels shape after shuffling =  (11411, 65)\n"
     ]
    }
   ],
   "source": [
    "print(\"Images shape after shuffling = \",X.shape,\"\\nLabels shape after shuffling = \",y.shape)"
   ]
  },
  {
   "cell_type": "code",
   "execution_count": 27,
   "metadata": {
    "id": "KQXjkUdlQUq-"
   },
   "outputs": [],
   "source": [
    "X = X.astype(np.float32)\n",
    "y = y.astype(np.int32)\n",
    "X = X/255."
   ]
  },
  {
   "cell_type": "code",
   "execution_count": 28,
   "metadata": {
    "id": "7q4nZmhnQUrM"
   },
   "outputs": [],
   "source": [
    "x_train, x_test, y_train, y_test = train_test_split(X, y, test_size = 0.2, random_state=1)\n",
    "x_train, x_val, y_train, y_val = train_test_split(x_train, y_train, test_size=0.1, random_state=1)"
   ]
  },
  {
   "cell_type": "code",
   "execution_count": 29,
   "metadata": {
    "id": "IxyZwOsSQUrT"
   },
   "outputs": [
    {
     "name": "stdout",
     "output_type": "stream",
     "text": [
      "x_train shape =  (8215, 224, 224, 3)\n",
      "y_train shape =  (8215, 65)\n",
      "\n",
      "x_val shape =  (913, 224, 224, 3)\n",
      "y_val shape =  (913, 65)\n",
      "\n",
      "x_test shape =  (2283, 224, 224, 3)\n",
      "y_test shape =  (2283, 65)\n"
     ]
    }
   ],
   "source": [
    "print(\"x_train shape = \",x_train.shape)\n",
    "print(\"y_train shape = \",y_train.shape)\n",
    "\n",
    "print(\"\\nx_val shape = \",x_val.shape)\n",
    "print(\"y_val shape = \",y_val.shape)\n",
    "\n",
    "print(\"\\nx_test shape = \",x_test.shape)\n",
    "print(\"y_test shape = \",y_test.shape)"
   ]
  },
  {
   "cell_type": "code",
   "execution_count": 30,
   "metadata": {
    "id": "pRk8W8u_QUrj"
   },
   "outputs": [],
   "source": [
    "image_generator = ImageDataGenerator(\n",
    "    rotation_range = 45,\n",
    "    width_shift_range = 0.25,\n",
    "    height_shift_range = 0.25,\n",
    "    zoom_range = 0.25,\n",
    "    horizontal_flip=True,\n",
    "    fill_mode = 'nearest'\n",
    ")"
   ]
  },
  {
   "cell_type": "code",
   "execution_count": 31,
   "metadata": {
    "id": "MxZz-NEiQUry"
   },
   "outputs": [],
   "source": [
    "image_generator.fit(x_train)"
   ]
  },
  {
   "cell_type": "code",
   "execution_count": 32,
   "metadata": {
    "id": "mO98L4rKQUr-"
   },
   "outputs": [
    {
     "name": "stdout",
     "output_type": "stream",
     "text": [
      "Model: \"sequential_1\"\n",
      "_________________________________________________________________\n",
      "Layer (type)                 Output Shape              Param #   \n",
      "=================================================================\n",
      "zero_padding2d_3 (ZeroPaddin (None, 226, 226, 3)       0         \n",
      "_________________________________________________________________\n",
      "conv2d_3 (Conv2D)            (None, 224, 224, 64)      1792      \n",
      "_________________________________________________________________\n",
      "max_pooling2d_3 (MaxPooling2 (None, 112, 112, 64)      0         \n",
      "_________________________________________________________________\n",
      "zero_padding2d_4 (ZeroPaddin (None, 114, 114, 64)      0         \n",
      "_________________________________________________________________\n",
      "conv2d_4 (Conv2D)            (None, 112, 112, 128)     73856     \n",
      "_________________________________________________________________\n",
      "max_pooling2d_4 (MaxPooling2 (None, 56, 56, 128)       0         \n",
      "_________________________________________________________________\n",
      "zero_padding2d_5 (ZeroPaddin (None, 58, 58, 128)       0         \n",
      "_________________________________________________________________\n",
      "conv2d_5 (Conv2D)            (None, 56, 56, 256)       295168    \n",
      "_________________________________________________________________\n",
      "max_pooling2d_5 (MaxPooling2 (None, 28, 28, 256)       0         \n",
      "_________________________________________________________________\n",
      "flatten_1 (Flatten)          (None, 200704)            0         \n",
      "_________________________________________________________________\n",
      "dense_2 (Dense)              (None, 1024)              205521920 \n",
      "_________________________________________________________________\n",
      "dropout_1 (Dropout)          (None, 1024)              0         \n",
      "_________________________________________________________________\n",
      "dense_3 (Dense)              (None, 65)                66625     \n",
      "=================================================================\n",
      "Total params: 205,959,361\n",
      "Trainable params: 205,959,361\n",
      "Non-trainable params: 0\n",
      "_________________________________________________________________\n"
     ]
    }
   ],
   "source": [
    "model = Sequential()\n",
    "\n",
    "model.add(ZeroPadding2D((1,1),input_shape=(image_w,image_h,3)))\n",
    "model.add(Convolution2D(64, (3, 3), activation='relu'))\n",
    "model.add(MaxPooling2D((2,2), strides=(2,2)))\n",
    "\n",
    "model.add(ZeroPadding2D((1,1)))\n",
    "model.add(Convolution2D(128, (3, 3), activation='relu'))\n",
    "model.add(MaxPooling2D((2,2), strides=(2,2)))\n",
    "\n",
    "model.add(ZeroPadding2D((1,1)))\n",
    "model.add(Convolution2D(256, (3, 3), activation='relu'))\n",
    "model.add(MaxPooling2D((2,2), strides=(2,2)))\n",
    "\n",
    "model.add(Flatten())\n",
    "model.add(Dense(1024, activation='relu'))\n",
    "model.add(Dropout(0.5))\n",
    "model.add(Dense(65, activation='softmax'))\n",
    "\n",
    "model.summary()"
   ]
  },
  {
   "cell_type": "code",
   "execution_count": 33,
   "metadata": {
    "id": "OihIHrjjQUsK"
   },
   "outputs": [],
   "source": [
    "model.compile(optimizer='adam', loss=\"categorical_crossentropy\", metrics=[\"accuracy\"])\n",
    "K.set_value(model.optimizer.learning_rate, 0.0001)"
   ]
  },
  {
   "cell_type": "code",
   "execution_count": 34,
   "metadata": {
    "id": "Dz5lTaVGQUsP"
   },
   "outputs": [],
   "source": [
    "early_stopping= EarlyStopping(monitor='val_loss', mode ='min', verbose = 1, patience = 15)\n",
    "model_checkPoint = ModelCheckpoint('VGGNet.h5', monitor='val_loss', save_best_only = True, mode ='min', verbose = 1)"
   ]
  },
  {
   "cell_type": "code",
   "execution_count": 35,
   "metadata": {
    "id": "noRS2JqRQUsS",
    "scrolled": false
   },
   "outputs": [
    {
     "name": "stdout",
     "output_type": "stream",
     "text": [
      "Epoch 1/150\n",
      "42/41 [==============================] - ETA: -10s - loss: 4.1727 - accuracy: 0.0184\n",
      "Epoch 00001: val_loss improved from inf to 4.16982, saving model to VGGNet.h5\n",
      "42/41 [==============================] - 519s 12s/step - loss: 4.1727 - accuracy: 0.0184 - val_loss: 4.1698 - val_accuracy: 0.0241\n",
      "Epoch 2/150\n",
      "42/41 [==============================] - ETA: -10s - loss: 4.1674 - accuracy: 0.0159\n",
      "Epoch 00002: val_loss improved from 4.16982 to 4.16629, saving model to VGGNet.h5\n",
      "42/41 [==============================] - 520s 12s/step - loss: 4.1674 - accuracy: 0.0159 - val_loss: 4.1663 - val_accuracy: 0.0153\n",
      "Epoch 3/150\n",
      "42/41 [==============================] - ETA: -10s - loss: 4.1618 - accuracy: 0.0236\n",
      "Epoch 00003: val_loss improved from 4.16629 to 4.15459, saving model to VGGNet.h5\n",
      "42/41 [==============================] - 514s 12s/step - loss: 4.1618 - accuracy: 0.0236 - val_loss: 4.1546 - val_accuracy: 0.0263\n",
      "Epoch 4/150\n",
      "42/41 [==============================] - ETA: -10s - loss: 4.1491 - accuracy: 0.0283\n",
      "Epoch 00004: val_loss improved from 4.15459 to 4.13954, saving model to VGGNet.h5\n",
      "42/41 [==============================] - 499s 12s/step - loss: 4.1491 - accuracy: 0.0283 - val_loss: 4.1395 - val_accuracy: 0.0252\n",
      "Epoch 5/150\n",
      "42/41 [==============================] - ETA: -10s - loss: 4.1273 - accuracy: 0.0368\n",
      "Epoch 00005: val_loss improved from 4.13954 to 4.10516, saving model to VGGNet.h5\n",
      "42/41 [==============================] - 499s 12s/step - loss: 4.1273 - accuracy: 0.0368 - val_loss: 4.1052 - val_accuracy: 0.0350\n",
      "Epoch 6/150\n",
      "42/41 [==============================] - ETA: -10s - loss: 4.1162 - accuracy: 0.0335\n",
      "Epoch 00006: val_loss improved from 4.10516 to 4.07153, saving model to VGGNet.h5\n",
      "42/41 [==============================] - 522s 12s/step - loss: 4.1162 - accuracy: 0.0335 - val_loss: 4.0715 - val_accuracy: 0.0405\n",
      "Epoch 7/150\n",
      "42/41 [==============================] - ETA: -11s - loss: 4.1056 - accuracy: 0.0366\n",
      "Epoch 00007: val_loss improved from 4.07153 to 4.04504, saving model to VGGNet.h5\n",
      "42/41 [==============================] - 530s 13s/step - loss: 4.1056 - accuracy: 0.0366 - val_loss: 4.0450 - val_accuracy: 0.0438\n",
      "Epoch 8/150\n",
      "42/41 [==============================] - ETA: -10s - loss: 4.0918 - accuracy: 0.0372\n",
      "Epoch 00008: val_loss improved from 4.04504 to 4.02461, saving model to VGGNet.h5\n",
      "42/41 [==============================] - 522s 12s/step - loss: 4.0918 - accuracy: 0.0372 - val_loss: 4.0246 - val_accuracy: 0.0449\n",
      "Epoch 9/150\n",
      "42/41 [==============================] - ETA: -11s - loss: 4.0739 - accuracy: 0.0419\n",
      "Epoch 00009: val_loss improved from 4.02461 to 4.01963, saving model to VGGNet.h5\n",
      "42/41 [==============================] - 542s 13s/step - loss: 4.0739 - accuracy: 0.0419 - val_loss: 4.0196 - val_accuracy: 0.0504\n",
      "Epoch 10/150\n",
      "42/41 [==============================] - ETA: -11s - loss: 4.0672 - accuracy: 0.0397\n",
      "Epoch 00010: val_loss improved from 4.01963 to 4.01221, saving model to VGGNet.h5\n",
      "42/41 [==============================] - 536s 13s/step - loss: 4.0672 - accuracy: 0.0397 - val_loss: 4.0122 - val_accuracy: 0.0537\n",
      "Epoch 11/150\n",
      "42/41 [==============================] - ETA: -11s - loss: 4.0532 - accuracy: 0.0448\n",
      "Epoch 00011: val_loss improved from 4.01221 to 3.99043, saving model to VGGNet.h5\n",
      "42/41 [==============================] - 544s 13s/step - loss: 4.0532 - accuracy: 0.0448 - val_loss: 3.9904 - val_accuracy: 0.0537\n",
      "Epoch 12/150\n",
      "42/41 [==============================] - ETA: -11s - loss: 4.0414 - accuracy: 0.0499\n",
      "Epoch 00012: val_loss did not improve from 3.99043\n",
      "42/41 [==============================] - 526s 13s/step - loss: 4.0414 - accuracy: 0.0499 - val_loss: 3.9911 - val_accuracy: 0.0482\n",
      "Epoch 13/150\n",
      "42/41 [==============================] - ETA: -11s - loss: 4.0408 - accuracy: 0.0408\n",
      "Epoch 00013: val_loss improved from 3.99043 to 3.97813, saving model to VGGNet.h5\n",
      "42/41 [==============================] - 568s 14s/step - loss: 4.0408 - accuracy: 0.0408 - val_loss: 3.9781 - val_accuracy: 0.0526\n",
      "Epoch 14/150\n",
      "42/41 [==============================] - ETA: -11s - loss: 4.0426 - accuracy: 0.0385\n",
      "Epoch 00014: val_loss improved from 3.97813 to 3.96426, saving model to VGGNet.h5\n",
      "42/41 [==============================] - 545s 13s/step - loss: 4.0426 - accuracy: 0.0385 - val_loss: 3.9643 - val_accuracy: 0.0591\n",
      "Epoch 15/150\n",
      "42/41 [==============================] - ETA: -10s - loss: 4.0387 - accuracy: 0.0409\n",
      "Epoch 00015: val_loss did not improve from 3.96426\n",
      "42/41 [==============================] - 503s 12s/step - loss: 4.0387 - accuracy: 0.0409 - val_loss: 3.9701 - val_accuracy: 0.0537\n",
      "Epoch 16/150\n",
      "42/41 [==============================] - ETA: -10s - loss: 4.0285 - accuracy: 0.0467\n",
      "Epoch 00016: val_loss improved from 3.96426 to 3.96183, saving model to VGGNet.h5\n",
      "42/41 [==============================] - 525s 13s/step - loss: 4.0285 - accuracy: 0.0467 - val_loss: 3.9618 - val_accuracy: 0.0646\n",
      "Epoch 17/150\n",
      "42/41 [==============================] - ETA: -11s - loss: 4.0354 - accuracy: 0.0437\n",
      "Epoch 00017: val_loss improved from 3.96183 to 3.96113, saving model to VGGNet.h5\n",
      "42/41 [==============================] - 539s 13s/step - loss: 4.0354 - accuracy: 0.0437 - val_loss: 3.9611 - val_accuracy: 0.0559\n",
      "Epoch 18/150\n",
      "42/41 [==============================] - ETA: -11s - loss: 4.0235 - accuracy: 0.0488\n",
      "Epoch 00018: val_loss improved from 3.96113 to 3.95890, saving model to VGGNet.h5\n",
      "42/41 [==============================] - 572s 14s/step - loss: 4.0235 - accuracy: 0.0488 - val_loss: 3.9589 - val_accuracy: 0.0504\n",
      "Epoch 19/150\n",
      "42/41 [==============================] - ETA: -11s - loss: 4.0080 - accuracy: 0.0505\n",
      "Epoch 00019: val_loss improved from 3.95890 to 3.94994, saving model to VGGNet.h5\n",
      "42/41 [==============================] - 564s 13s/step - loss: 4.0080 - accuracy: 0.0505 - val_loss: 3.9499 - val_accuracy: 0.0526\n",
      "Epoch 20/150\n",
      "42/41 [==============================] - ETA: -11s - loss: 4.0238 - accuracy: 0.0482\n",
      "Epoch 00020: val_loss improved from 3.94994 to 3.94779, saving model to VGGNet.h5\n",
      "42/41 [==============================] - 552s 13s/step - loss: 4.0238 - accuracy: 0.0482 - val_loss: 3.9478 - val_accuracy: 0.0559\n",
      "Epoch 21/150\n",
      "42/41 [==============================] - ETA: -11s - loss: 4.0096 - accuracy: 0.0502\n",
      "Epoch 00021: val_loss improved from 3.94779 to 3.94531, saving model to VGGNet.h5\n",
      "42/41 [==============================] - 548s 13s/step - loss: 4.0096 - accuracy: 0.0502 - val_loss: 3.9453 - val_accuracy: 0.0581\n",
      "Epoch 22/150\n",
      "42/41 [==============================] - ETA: -11s - loss: 4.0114 - accuracy: 0.0484\n",
      "Epoch 00022: val_loss did not improve from 3.94531\n",
      "42/41 [==============================] - 533s 13s/step - loss: 4.0114 - accuracy: 0.0484 - val_loss: 3.9473 - val_accuracy: 0.0559\n",
      "Epoch 23/150\n",
      "42/41 [==============================] - ETA: -11s - loss: 4.0004 - accuracy: 0.0463\n",
      "Epoch 00023: val_loss did not improve from 3.94531\n",
      "42/41 [==============================] - 532s 13s/step - loss: 4.0004 - accuracy: 0.0463 - val_loss: 3.9472 - val_accuracy: 0.0548\n",
      "Epoch 24/150\n",
      "42/41 [==============================] - ETA: -10s - loss: 4.0155 - accuracy: 0.0491\n",
      "Epoch 00024: val_loss improved from 3.94531 to 3.93609, saving model to VGGNet.h5\n",
      "42/41 [==============================] - 500s 12s/step - loss: 4.0155 - accuracy: 0.0491 - val_loss: 3.9361 - val_accuracy: 0.0635\n",
      "Epoch 25/150\n",
      "42/41 [==============================] - ETA: -10s - loss: 4.0062 - accuracy: 0.0465\n",
      "Epoch 00025: val_loss improved from 3.93609 to 3.93267, saving model to VGGNet.h5\n",
      "42/41 [==============================] - 514s 12s/step - loss: 4.0062 - accuracy: 0.0465 - val_loss: 3.9327 - val_accuracy: 0.0624\n",
      "Epoch 26/150\n",
      "42/41 [==============================] - ETA: -11s - loss: 4.0012 - accuracy: 0.0518\n",
      "Epoch 00026: val_loss improved from 3.93267 to 3.92340, saving model to VGGNet.h5\n",
      "42/41 [==============================] - 546s 13s/step - loss: 4.0012 - accuracy: 0.0518 - val_loss: 3.9234 - val_accuracy: 0.0570\n",
      "Epoch 27/150\n",
      "42/41 [==============================] - ETA: -10s - loss: 4.0018 - accuracy: 0.0522\n",
      "Epoch 00027: val_loss did not improve from 3.92340\n",
      "42/41 [==============================] - 514s 12s/step - loss: 4.0018 - accuracy: 0.0522 - val_loss: 3.9315 - val_accuracy: 0.0646\n"
     ]
    },
    {
     "name": "stdout",
     "output_type": "stream",
     "text": [
      "Epoch 28/150\n",
      "42/41 [==============================] - ETA: -10s - loss: 3.9916 - accuracy: 0.0476\n",
      "Epoch 00028: val_loss improved from 3.92340 to 3.92060, saving model to VGGNet.h5\n",
      "42/41 [==============================] - 500s 12s/step - loss: 3.9916 - accuracy: 0.0476 - val_loss: 3.9206 - val_accuracy: 0.0657\n",
      "Epoch 29/150\n",
      "42/41 [==============================] - ETA: -10s - loss: 4.0017 - accuracy: 0.0518\n",
      "Epoch 00029: val_loss improved from 3.92060 to 3.91417, saving model to VGGNet.h5\n",
      "42/41 [==============================] - 529s 13s/step - loss: 4.0017 - accuracy: 0.0518 - val_loss: 3.9142 - val_accuracy: 0.0613\n",
      "Epoch 30/150\n",
      "42/41 [==============================] - ETA: -10s - loss: 3.9860 - accuracy: 0.0545\n",
      "Epoch 00030: val_loss did not improve from 3.91417\n",
      "42/41 [==============================] - 497s 12s/step - loss: 3.9860 - accuracy: 0.0545 - val_loss: 3.9176 - val_accuracy: 0.0701\n",
      "Epoch 31/150\n",
      "42/41 [==============================] - ETA: -10s - loss: 3.9903 - accuracy: 0.0529\n",
      "Epoch 00031: val_loss did not improve from 3.91417\n",
      "42/41 [==============================] - 488s 12s/step - loss: 3.9903 - accuracy: 0.0529 - val_loss: 3.9197 - val_accuracy: 0.0646\n",
      "Epoch 32/150\n",
      "42/41 [==============================] - ETA: -10s - loss: 3.9840 - accuracy: 0.0544\n",
      "Epoch 00032: val_loss improved from 3.91417 to 3.90643, saving model to VGGNet.h5\n",
      "42/41 [==============================] - 497s 12s/step - loss: 3.9840 - accuracy: 0.0544 - val_loss: 3.9064 - val_accuracy: 0.0613\n",
      "Epoch 33/150\n",
      "42/41 [==============================] - ETA: -10s - loss: 3.9862 - accuracy: 0.0499\n",
      "Epoch 00033: val_loss did not improve from 3.90643\n",
      "42/41 [==============================] - 495s 12s/step - loss: 3.9862 - accuracy: 0.0499 - val_loss: 3.9182 - val_accuracy: 0.0712\n",
      "Epoch 34/150\n",
      "42/41 [==============================] - ETA: -10s - loss: 3.9786 - accuracy: 0.0508\n",
      "Epoch 00034: val_loss did not improve from 3.90643\n",
      "42/41 [==============================] - 493s 12s/step - loss: 3.9786 - accuracy: 0.0508 - val_loss: 3.9074 - val_accuracy: 0.0668\n",
      "Epoch 35/150\n",
      "42/41 [==============================] - ETA: -10s - loss: 3.9692 - accuracy: 0.0546\n",
      "Epoch 00035: val_loss improved from 3.90643 to 3.89637, saving model to VGGNet.h5\n",
      "42/41 [==============================] - 496s 12s/step - loss: 3.9692 - accuracy: 0.0546 - val_loss: 3.8964 - val_accuracy: 0.0657\n",
      "Epoch 36/150\n",
      "42/41 [==============================] - ETA: -10s - loss: 3.9742 - accuracy: 0.0569\n",
      "Epoch 00036: val_loss improved from 3.89637 to 3.89525, saving model to VGGNet.h5\n",
      "42/41 [==============================] - 496s 12s/step - loss: 3.9742 - accuracy: 0.0569 - val_loss: 3.8953 - val_accuracy: 0.0690\n",
      "Epoch 37/150\n",
      "42/41 [==============================] - ETA: -10s - loss: 3.9690 - accuracy: 0.0534\n",
      "Epoch 00037: val_loss did not improve from 3.89525\n",
      "42/41 [==============================] - 496s 12s/step - loss: 3.9690 - accuracy: 0.0534 - val_loss: 3.9023 - val_accuracy: 0.0624\n",
      "Epoch 38/150\n",
      "42/41 [==============================] - ETA: -10s - loss: 3.9929 - accuracy: 0.0520\n",
      "Epoch 00038: val_loss did not improve from 3.89525\n",
      "42/41 [==============================] - 487s 12s/step - loss: 3.9929 - accuracy: 0.0520 - val_loss: 3.9020 - val_accuracy: 0.0635\n",
      "Epoch 39/150\n",
      "42/41 [==============================] - ETA: -10s - loss: 3.9650 - accuracy: 0.0506\n",
      "Epoch 00039: val_loss did not improve from 3.89525\n",
      "42/41 [==============================] - 495s 12s/step - loss: 3.9650 - accuracy: 0.0506 - val_loss: 3.9021 - val_accuracy: 0.0657\n",
      "Epoch 40/150\n",
      "42/41 [==============================] - ETA: -10s - loss: 3.9664 - accuracy: 0.0513\n",
      "Epoch 00040: val_loss did not improve from 3.89525\n",
      "42/41 [==============================] - 496s 12s/step - loss: 3.9664 - accuracy: 0.0513 - val_loss: 3.9101 - val_accuracy: 0.0602\n",
      "Epoch 41/150\n",
      "42/41 [==============================] - ETA: -10s - loss: 3.9686 - accuracy: 0.0558\n",
      "Epoch 00041: val_loss did not improve from 3.89525\n",
      "42/41 [==============================] - 486s 12s/step - loss: 3.9686 - accuracy: 0.0558 - val_loss: 3.9003 - val_accuracy: 0.0657\n",
      "Epoch 42/150\n",
      "42/41 [==============================] - ETA: -10s - loss: 3.9675 - accuracy: 0.0567\n",
      "Epoch 00042: val_loss improved from 3.89525 to 3.88813, saving model to VGGNet.h5\n",
      "42/41 [==============================] - 496s 12s/step - loss: 3.9675 - accuracy: 0.0567 - val_loss: 3.8881 - val_accuracy: 0.0679\n",
      "Epoch 43/150\n",
      "42/41 [==============================] - ETA: -10s - loss: 3.9597 - accuracy: 0.0519\n",
      "Epoch 00043: val_loss did not improve from 3.88813\n",
      "42/41 [==============================] - 496s 12s/step - loss: 3.9597 - accuracy: 0.0519 - val_loss: 3.9040 - val_accuracy: 0.0624\n",
      "Epoch 44/150\n",
      "42/41 [==============================] - ETA: -10s - loss: 3.9590 - accuracy: 0.0554\n",
      "Epoch 00044: val_loss did not improve from 3.88813\n",
      "42/41 [==============================] - 486s 12s/step - loss: 3.9590 - accuracy: 0.0554 - val_loss: 3.8918 - val_accuracy: 0.0690\n",
      "Epoch 45/150\n",
      "42/41 [==============================] - ETA: -10s - loss: 3.9555 - accuracy: 0.0552\n",
      "Epoch 00045: val_loss improved from 3.88813 to 3.87834, saving model to VGGNet.h5\n",
      "42/41 [==============================] - 506s 12s/step - loss: 3.9555 - accuracy: 0.0552 - val_loss: 3.8783 - val_accuracy: 0.0657\n",
      "Epoch 46/150\n",
      "42/41 [==============================] - ETA: -10s - loss: 3.9518 - accuracy: 0.0575\n",
      "Epoch 00046: val_loss did not improve from 3.87834\n",
      "42/41 [==============================] - 489s 12s/step - loss: 3.9518 - accuracy: 0.0575 - val_loss: 3.9029 - val_accuracy: 0.0624\n",
      "Epoch 47/150\n",
      "42/41 [==============================] - ETA: -10s - loss: 3.9580 - accuracy: 0.0502\n",
      "Epoch 00047: val_loss did not improve from 3.87834\n",
      "42/41 [==============================] - 492s 12s/step - loss: 3.9580 - accuracy: 0.0502 - val_loss: 3.8808 - val_accuracy: 0.0613\n",
      "Epoch 48/150\n",
      "42/41 [==============================] - ETA: -10s - loss: 3.9598 - accuracy: 0.0560\n",
      "Epoch 00048: val_loss did not improve from 3.87834\n",
      "42/41 [==============================] - 483s 12s/step - loss: 3.9598 - accuracy: 0.0560 - val_loss: 3.8833 - val_accuracy: 0.0734\n",
      "Epoch 49/150\n",
      "42/41 [==============================] - ETA: -10s - loss: 3.9459 - accuracy: 0.0565\n",
      "Epoch 00049: val_loss improved from 3.87834 to 3.87636, saving model to VGGNet.h5\n",
      "42/41 [==============================] - 502s 12s/step - loss: 3.9459 - accuracy: 0.0565 - val_loss: 3.8764 - val_accuracy: 0.0679\n",
      "Epoch 50/150\n",
      "42/41 [==============================] - ETA: -10s - loss: 3.9518 - accuracy: 0.0543\n",
      "Epoch 00050: val_loss did not improve from 3.87636\n",
      "42/41 [==============================] - 492s 12s/step - loss: 3.9518 - accuracy: 0.0543 - val_loss: 3.8887 - val_accuracy: 0.0602\n",
      "Epoch 51/150\n",
      "42/41 [==============================] - ETA: -10s - loss: 3.9564 - accuracy: 0.0577\n",
      "Epoch 00051: val_loss improved from 3.87636 to 3.87389, saving model to VGGNet.h5\n",
      "42/41 [==============================] - 493s 12s/step - loss: 3.9564 - accuracy: 0.0577 - val_loss: 3.8739 - val_accuracy: 0.0679\n",
      "Epoch 52/150\n",
      "42/41 [==============================] - ETA: -10s - loss: 3.9472 - accuracy: 0.0546\n",
      "Epoch 00052: val_loss did not improve from 3.87389\n",
      "42/41 [==============================] - 490s 12s/step - loss: 3.9472 - accuracy: 0.0546 - val_loss: 3.8841 - val_accuracy: 0.0591\n",
      "Epoch 53/150\n",
      "42/41 [==============================] - ETA: -10s - loss: 3.9525 - accuracy: 0.0578\n",
      "Epoch 00053: val_loss did not improve from 3.87389\n",
      "42/41 [==============================] - 495s 12s/step - loss: 3.9525 - accuracy: 0.0578 - val_loss: 3.8760 - val_accuracy: 0.0778\n",
      "Epoch 54/150\n",
      "42/41 [==============================] - ETA: -10s - loss: 3.9361 - accuracy: 0.0582\n",
      "Epoch 00054: val_loss improved from 3.87389 to 3.86812, saving model to VGGNet.h5\n",
      "42/41 [==============================] - 494s 12s/step - loss: 3.9361 - accuracy: 0.0582 - val_loss: 3.8681 - val_accuracy: 0.0745\n",
      "Epoch 55/150\n",
      "42/41 [==============================] - ETA: -10s - loss: 3.9366 - accuracy: 0.0575\n",
      "Epoch 00055: val_loss did not improve from 3.86812\n",
      "42/41 [==============================] - 484s 12s/step - loss: 3.9366 - accuracy: 0.0575 - val_loss: 3.8716 - val_accuracy: 0.0767\n",
      "Epoch 56/150\n"
     ]
    },
    {
     "name": "stdout",
     "output_type": "stream",
     "text": [
      "42/41 [==============================] - ETA: -10s - loss: 3.9368 - accuracy: 0.0554\n",
      "Epoch 00056: val_loss improved from 3.86812 to 3.85415, saving model to VGGNet.h5\n",
      "42/41 [==============================] - 500s 12s/step - loss: 3.9368 - accuracy: 0.0554 - val_loss: 3.8542 - val_accuracy: 0.0701\n",
      "Epoch 57/150\n",
      "42/41 [==============================] - ETA: -10s - loss: 3.9333 - accuracy: 0.0588\n",
      "Epoch 00057: val_loss improved from 3.85415 to 3.84964, saving model to VGGNet.h5\n",
      "42/41 [==============================] - 492s 12s/step - loss: 3.9333 - accuracy: 0.0588 - val_loss: 3.8496 - val_accuracy: 0.0843\n",
      "Epoch 58/150\n",
      "42/41 [==============================] - ETA: -10s - loss: 3.9255 - accuracy: 0.0641\n",
      "Epoch 00058: val_loss did not improve from 3.84964\n",
      "42/41 [==============================] - 485s 12s/step - loss: 3.9255 - accuracy: 0.0641 - val_loss: 3.8516 - val_accuracy: 0.0668\n",
      "Epoch 59/150\n",
      "42/41 [==============================] - ETA: -10s - loss: 3.9324 - accuracy: 0.0567\n",
      "Epoch 00059: val_loss did not improve from 3.84964\n",
      "42/41 [==============================] - 493s 12s/step - loss: 3.9324 - accuracy: 0.0567 - val_loss: 3.8510 - val_accuracy: 0.0646\n",
      "Epoch 60/150\n",
      "42/41 [==============================] - ETA: -10s - loss: 3.9139 - accuracy: 0.0606\n",
      "Epoch 00060: val_loss improved from 3.84964 to 3.84438, saving model to VGGNet.h5\n",
      "42/41 [==============================] - 502s 12s/step - loss: 3.9139 - accuracy: 0.0606 - val_loss: 3.8444 - val_accuracy: 0.0668\n",
      "Epoch 61/150\n",
      "42/41 [==============================] - ETA: -10s - loss: 3.9225 - accuracy: 0.0562\n",
      "Epoch 00061: val_loss did not improve from 3.84438\n",
      "42/41 [==============================] - 492s 12s/step - loss: 3.9225 - accuracy: 0.0562 - val_loss: 3.8688 - val_accuracy: 0.0756\n",
      "Epoch 62/150\n",
      "42/41 [==============================] - ETA: -10s - loss: 3.9189 - accuracy: 0.0541\n",
      "Epoch 00062: val_loss did not improve from 3.84438\n",
      "42/41 [==============================] - 485s 12s/step - loss: 3.9189 - accuracy: 0.0541 - val_loss: 3.8506 - val_accuracy: 0.0745\n",
      "Epoch 63/150\n",
      "42/41 [==============================] - ETA: -10s - loss: 3.9279 - accuracy: 0.0569\n",
      "Epoch 00063: val_loss did not improve from 3.84438\n",
      "42/41 [==============================] - 483s 11s/step - loss: 3.9279 - accuracy: 0.0569 - val_loss: 3.8546 - val_accuracy: 0.0767\n",
      "Epoch 64/150\n",
      "42/41 [==============================] - ETA: -10s - loss: 3.9249 - accuracy: 0.0579\n",
      "Epoch 00064: val_loss improved from 3.84438 to 3.83959, saving model to VGGNet.h5\n",
      "42/41 [==============================] - 493s 12s/step - loss: 3.9249 - accuracy: 0.0579 - val_loss: 3.8396 - val_accuracy: 0.0756\n",
      "Epoch 65/150\n",
      "42/41 [==============================] - ETA: -10s - loss: 3.9103 - accuracy: 0.0607\n",
      "Epoch 00065: val_loss improved from 3.83959 to 3.83489, saving model to VGGNet.h5\n",
      "42/41 [==============================] - 503s 12s/step - loss: 3.9103 - accuracy: 0.0607 - val_loss: 3.8349 - val_accuracy: 0.0723\n",
      "Epoch 66/150\n",
      "42/41 [==============================] - ETA: -10s - loss: 3.9085 - accuracy: 0.0599\n",
      "Epoch 00066: val_loss improved from 3.83489 to 3.83358, saving model to VGGNet.h5\n",
      "42/41 [==============================] - 502s 12s/step - loss: 3.9085 - accuracy: 0.0599 - val_loss: 3.8336 - val_accuracy: 0.0745\n",
      "Epoch 67/150\n",
      "42/41 [==============================] - ETA: -10s - loss: 3.8975 - accuracy: 0.0627\n",
      "Epoch 00067: val_loss did not improve from 3.83358\n",
      "42/41 [==============================] - 492s 12s/step - loss: 3.8975 - accuracy: 0.0627 - val_loss: 3.8363 - val_accuracy: 0.0745\n",
      "Epoch 68/150\n",
      "42/41 [==============================] - ETA: -10s - loss: 3.8979 - accuracy: 0.0645\n",
      "Epoch 00068: val_loss did not improve from 3.83358\n",
      "42/41 [==============================] - 492s 12s/step - loss: 3.8979 - accuracy: 0.0645 - val_loss: 3.8550 - val_accuracy: 0.0679\n",
      "Epoch 69/150\n",
      "42/41 [==============================] - ETA: -10s - loss: 3.9158 - accuracy: 0.0595\n",
      "Epoch 00069: val_loss did not improve from 3.83358\n",
      "42/41 [==============================] - 493s 12s/step - loss: 3.9158 - accuracy: 0.0595 - val_loss: 3.8381 - val_accuracy: 0.0800\n",
      "Epoch 70/150\n",
      "42/41 [==============================] - ETA: -10s - loss: 3.8975 - accuracy: 0.0573\n",
      "Epoch 00070: val_loss improved from 3.83358 to 3.83068, saving model to VGGNet.h5\n",
      "42/41 [==============================] - 501s 12s/step - loss: 3.8975 - accuracy: 0.0573 - val_loss: 3.8307 - val_accuracy: 0.0723\n",
      "Epoch 71/150\n",
      "42/41 [==============================] - ETA: -10s - loss: 3.8904 - accuracy: 0.0588\n",
      "Epoch 00071: val_loss improved from 3.83068 to 3.81980, saving model to VGGNet.h5\n",
      "42/41 [==============================] - 501s 12s/step - loss: 3.8904 - accuracy: 0.0588 - val_loss: 3.8198 - val_accuracy: 0.0778\n",
      "Epoch 72/150\n",
      "42/41 [==============================] - ETA: -10s - loss: 3.8910 - accuracy: 0.0639\n",
      "Epoch 00072: val_loss did not improve from 3.81980\n",
      "42/41 [==============================] - 483s 11s/step - loss: 3.8910 - accuracy: 0.0639 - val_loss: 3.8203 - val_accuracy: 0.0789\n",
      "Epoch 73/150\n",
      "42/41 [==============================] - ETA: -10s - loss: 3.8739 - accuracy: 0.0649\n",
      "Epoch 00073: val_loss improved from 3.81980 to 3.81653, saving model to VGGNet.h5\n",
      "42/41 [==============================] - 493s 12s/step - loss: 3.8739 - accuracy: 0.0649 - val_loss: 3.8165 - val_accuracy: 0.0734\n",
      "Epoch 74/150\n",
      "42/41 [==============================] - ETA: -10s - loss: 3.8887 - accuracy: 0.0647\n",
      "Epoch 00074: val_loss did not improve from 3.81653\n",
      "42/41 [==============================] - 484s 12s/step - loss: 3.8887 - accuracy: 0.0647 - val_loss: 3.8177 - val_accuracy: 0.0745\n",
      "Epoch 75/150\n",
      "42/41 [==============================] - ETA: -10s - loss: 3.8977 - accuracy: 0.0629\n",
      "Epoch 00075: val_loss did not improve from 3.81653\n",
      "42/41 [==============================] - 493s 12s/step - loss: 3.8977 - accuracy: 0.0629 - val_loss: 3.8242 - val_accuracy: 0.0789\n",
      "Epoch 76/150\n",
      "42/41 [==============================] - ETA: -10s - loss: 3.8844 - accuracy: 0.0673\n",
      "Epoch 00076: val_loss did not improve from 3.81653\n",
      "42/41 [==============================] - 491s 12s/step - loss: 3.8844 - accuracy: 0.0673 - val_loss: 3.8367 - val_accuracy: 0.0635\n",
      "Epoch 77/150\n",
      "42/41 [==============================] - ETA: -10s - loss: 3.8841 - accuracy: 0.0672\n",
      "Epoch 00077: val_loss improved from 3.81653 to 3.80572, saving model to VGGNet.h5\n",
      "42/41 [==============================] - 496s 12s/step - loss: 3.8841 - accuracy: 0.0672 - val_loss: 3.8057 - val_accuracy: 0.0756\n",
      "Epoch 78/150\n",
      "42/41 [==============================] - ETA: -10s - loss: 3.8746 - accuracy: 0.0644\n",
      "Epoch 00078: val_loss improved from 3.80572 to 3.80099, saving model to VGGNet.h5\n",
      "42/41 [==============================] - 500s 12s/step - loss: 3.8746 - accuracy: 0.0644 - val_loss: 3.8010 - val_accuracy: 0.0887\n",
      "Epoch 79/150\n",
      "42/41 [==============================] - ETA: -10s - loss: 3.8808 - accuracy: 0.0662\n",
      "Epoch 00079: val_loss improved from 3.80099 to 3.79914, saving model to VGGNet.h5\n",
      "42/41 [==============================] - 492s 12s/step - loss: 3.8808 - accuracy: 0.0662 - val_loss: 3.7991 - val_accuracy: 0.0778\n",
      "Epoch 80/150\n",
      "42/41 [==============================] - ETA: -10s - loss: 3.8754 - accuracy: 0.0664\n",
      "Epoch 00080: val_loss did not improve from 3.79914\n",
      "42/41 [==============================] - 492s 12s/step - loss: 3.8754 - accuracy: 0.0664 - val_loss: 3.8211 - val_accuracy: 0.0756\n",
      "Epoch 81/150\n",
      "42/41 [==============================] - ETA: -10s - loss: 3.8752 - accuracy: 0.0616\n",
      "Epoch 00081: val_loss did not improve from 3.79914\n",
      "42/41 [==============================] - 494s 12s/step - loss: 3.8752 - accuracy: 0.0616 - val_loss: 3.8112 - val_accuracy: 0.0800\n",
      "Epoch 82/150\n",
      "42/41 [==============================] - ETA: -10s - loss: 3.8570 - accuracy: 0.0698\n",
      "Epoch 00082: val_loss improved from 3.79914 to 3.78685, saving model to VGGNet.h5\n",
      "42/41 [==============================] - 493s 12s/step - loss: 3.8570 - accuracy: 0.0698 - val_loss: 3.7869 - val_accuracy: 0.0843\n",
      "Epoch 83/150\n",
      "42/41 [==============================] - ETA: -10s - loss: 3.8640 - accuracy: 0.0679\n",
      "Epoch 00083: val_loss did not improve from 3.78685\n",
      "42/41 [==============================] - 483s 11s/step - loss: 3.8640 - accuracy: 0.0679 - val_loss: 3.7963 - val_accuracy: 0.0811\n"
     ]
    },
    {
     "name": "stdout",
     "output_type": "stream",
     "text": [
      "Epoch 84/150\n",
      "42/41 [==============================] - ETA: -10s - loss: 3.8623 - accuracy: 0.0694\n",
      "Epoch 00084: val_loss did not improve from 3.78685\n",
      "42/41 [==============================] - 492s 12s/step - loss: 3.8623 - accuracy: 0.0694 - val_loss: 3.8015 - val_accuracy: 0.0832\n",
      "Epoch 85/150\n",
      "42/41 [==============================] - ETA: -10s - loss: 3.8638 - accuracy: 0.0723\n",
      "Epoch 00085: val_loss did not improve from 3.78685\n",
      "42/41 [==============================] - 484s 12s/step - loss: 3.8638 - accuracy: 0.0723 - val_loss: 3.7894 - val_accuracy: 0.0811\n",
      "Epoch 86/150\n",
      "42/41 [==============================] - ETA: -10s - loss: 3.8722 - accuracy: 0.0696\n",
      "Epoch 00086: val_loss did not improve from 3.78685\n",
      "42/41 [==============================] - 496s 12s/step - loss: 3.8722 - accuracy: 0.0696 - val_loss: 3.8005 - val_accuracy: 0.0690\n",
      "Epoch 87/150\n",
      "42/41 [==============================] - ETA: -10s - loss: 3.8725 - accuracy: 0.0656\n",
      "Epoch 00087: val_loss did not improve from 3.78685\n",
      "42/41 [==============================] - 485s 12s/step - loss: 3.8725 - accuracy: 0.0656 - val_loss: 3.7960 - val_accuracy: 0.0821\n",
      "Epoch 88/150\n",
      "42/41 [==============================] - ETA: -10s - loss: 3.8677 - accuracy: 0.0692\n",
      "Epoch 00088: val_loss improved from 3.78685 to 3.78609, saving model to VGGNet.h5\n",
      "42/41 [==============================] - 494s 12s/step - loss: 3.8677 - accuracy: 0.0692 - val_loss: 3.7861 - val_accuracy: 0.0778\n",
      "Epoch 89/150\n",
      "42/41 [==============================] - ETA: -10s - loss: 3.8667 - accuracy: 0.0606\n",
      "Epoch 00089: val_loss improved from 3.78609 to 3.78192, saving model to VGGNet.h5\n",
      "42/41 [==============================] - 502s 12s/step - loss: 3.8667 - accuracy: 0.0606 - val_loss: 3.7819 - val_accuracy: 0.0811\n",
      "Epoch 90/150\n",
      "42/41 [==============================] - ETA: -10s - loss: 3.8705 - accuracy: 0.0710\n",
      "Epoch 00090: val_loss did not improve from 3.78192\n",
      "42/41 [==============================] - 483s 12s/step - loss: 3.8705 - accuracy: 0.0710 - val_loss: 3.7960 - val_accuracy: 0.0876\n",
      "Epoch 91/150\n",
      "42/41 [==============================] - ETA: -10s - loss: 3.8704 - accuracy: 0.0717\n",
      "Epoch 00091: val_loss did not improve from 3.78192\n",
      "42/41 [==============================] - 486s 12s/step - loss: 3.8704 - accuracy: 0.0717 - val_loss: 3.7960 - val_accuracy: 0.0843\n",
      "Epoch 92/150\n",
      "42/41 [==============================] - ETA: -10s - loss: 3.8515 - accuracy: 0.0672\n",
      "Epoch 00092: val_loss improved from 3.78192 to 3.77845, saving model to VGGNet.h5\n",
      "42/41 [==============================] - 494s 12s/step - loss: 3.8515 - accuracy: 0.0672 - val_loss: 3.7785 - val_accuracy: 0.0887\n",
      "Epoch 93/150\n",
      "42/41 [==============================] - ETA: -10s - loss: 3.8453 - accuracy: 0.0740\n",
      "Epoch 00093: val_loss improved from 3.77845 to 3.77659, saving model to VGGNet.h5\n",
      "42/41 [==============================] - 493s 12s/step - loss: 3.8453 - accuracy: 0.0740 - val_loss: 3.7766 - val_accuracy: 0.0832\n",
      "Epoch 94/150\n",
      "42/41 [==============================] - ETA: -10s - loss: 3.8422 - accuracy: 0.0679\n",
      "Epoch 00094: val_loss improved from 3.77659 to 3.77201, saving model to VGGNet.h5\n",
      "42/41 [==============================] - 492s 12s/step - loss: 3.8422 - accuracy: 0.0679 - val_loss: 3.7720 - val_accuracy: 0.0854\n",
      "Epoch 95/150\n",
      "42/41 [==============================] - ETA: -10s - loss: 3.8528 - accuracy: 0.0651\n",
      "Epoch 00095: val_loss did not improve from 3.77201\n",
      "42/41 [==============================] - 487s 12s/step - loss: 3.8528 - accuracy: 0.0651 - val_loss: 3.7785 - val_accuracy: 0.0832\n",
      "Epoch 96/150\n",
      "42/41 [==============================] - ETA: -10s - loss: 3.8328 - accuracy: 0.0740\n",
      "Epoch 00096: val_loss improved from 3.77201 to 3.76048, saving model to VGGNet.h5\n",
      "42/41 [==============================] - 506s 12s/step - loss: 3.8328 - accuracy: 0.0740 - val_loss: 3.7605 - val_accuracy: 0.0898\n",
      "Epoch 97/150\n",
      "42/41 [==============================] - ETA: -10s - loss: 3.8480 - accuracy: 0.0690\n",
      "Epoch 00097: val_loss did not improve from 3.76048\n",
      "42/41 [==============================] - 498s 12s/step - loss: 3.8480 - accuracy: 0.0690 - val_loss: 3.7661 - val_accuracy: 0.0865\n",
      "Epoch 98/150\n",
      "42/41 [==============================] - ETA: -10s - loss: 3.8280 - accuracy: 0.0738\n",
      "Epoch 00098: val_loss did not improve from 3.76048\n",
      "42/41 [==============================] - 484s 12s/step - loss: 3.8280 - accuracy: 0.0738 - val_loss: 3.7773 - val_accuracy: 0.0854\n",
      "Epoch 99/150\n",
      "42/41 [==============================] - ETA: -10s - loss: 3.8313 - accuracy: 0.0744\n",
      "Epoch 00099: val_loss improved from 3.76048 to 3.75288, saving model to VGGNet.h5\n",
      "42/41 [==============================] - 494s 12s/step - loss: 3.8313 - accuracy: 0.0744 - val_loss: 3.7529 - val_accuracy: 0.0865\n",
      "Epoch 100/150\n",
      "42/41 [==============================] - ETA: -10s - loss: 3.8205 - accuracy: 0.0744\n",
      "Epoch 00100: val_loss did not improve from 3.75288\n",
      "42/41 [==============================] - 484s 12s/step - loss: 3.8205 - accuracy: 0.0744 - val_loss: 3.7563 - val_accuracy: 0.0865\n",
      "Epoch 101/150\n",
      "42/41 [==============================] - ETA: -10s - loss: 3.8269 - accuracy: 0.0761\n",
      "Epoch 00101: val_loss improved from 3.75288 to 3.74522, saving model to VGGNet.h5\n",
      "42/41 [==============================] - 493s 12s/step - loss: 3.8269 - accuracy: 0.0761 - val_loss: 3.7452 - val_accuracy: 0.0942\n",
      "Epoch 102/150\n",
      "42/41 [==============================] - ETA: -10s - loss: 3.8310 - accuracy: 0.0755\n",
      "Epoch 00102: val_loss did not improve from 3.74522\n",
      "42/41 [==============================] - 485s 12s/step - loss: 3.8310 - accuracy: 0.0755 - val_loss: 3.7480 - val_accuracy: 0.0854\n",
      "Epoch 103/150\n",
      "42/41 [==============================] - ETA: -10s - loss: 3.8256 - accuracy: 0.0751\n",
      "Epoch 00103: val_loss improved from 3.74522 to 3.74311, saving model to VGGNet.h5\n",
      "42/41 [==============================] - 501s 12s/step - loss: 3.8256 - accuracy: 0.0751 - val_loss: 3.7431 - val_accuracy: 0.0964\n",
      "Epoch 104/150\n",
      "42/41 [==============================] - ETA: -10s - loss: 3.8094 - accuracy: 0.0708\n",
      "Epoch 00104: val_loss did not improve from 3.74311\n",
      "42/41 [==============================] - 484s 12s/step - loss: 3.8094 - accuracy: 0.0708 - val_loss: 3.7500 - val_accuracy: 0.0975\n",
      "Epoch 105/150\n",
      "42/41 [==============================] - ETA: -10s - loss: 3.8002 - accuracy: 0.0765\n",
      "Epoch 00105: val_loss improved from 3.74311 to 3.73280, saving model to VGGNet.h5\n",
      "42/41 [==============================] - 493s 12s/step - loss: 3.8002 - accuracy: 0.0765 - val_loss: 3.7328 - val_accuracy: 0.0964\n",
      "Epoch 106/150\n",
      "42/41 [==============================] - ETA: -10s - loss: 3.8187 - accuracy: 0.0793\n",
      "Epoch 00106: val_loss did not improve from 3.73280\n",
      "42/41 [==============================] - 484s 12s/step - loss: 3.8187 - accuracy: 0.0793 - val_loss: 3.7461 - val_accuracy: 0.1041\n",
      "Epoch 107/150\n",
      "42/41 [==============================] - ETA: -10s - loss: 3.8019 - accuracy: 0.0761\n",
      "Epoch 00107: val_loss did not improve from 3.73280\n",
      "42/41 [==============================] - 494s 12s/step - loss: 3.8019 - accuracy: 0.0761 - val_loss: 3.7372 - val_accuracy: 0.1019\n",
      "Epoch 108/150\n",
      "42/41 [==============================] - ETA: -10s - loss: 3.7960 - accuracy: 0.0765\n",
      "Epoch 00108: val_loss did not improve from 3.73280\n",
      "42/41 [==============================] - 493s 12s/step - loss: 3.7960 - accuracy: 0.0765 - val_loss: 3.7357 - val_accuracy: 0.0986\n",
      "Epoch 109/150\n",
      "42/41 [==============================] - ETA: -10s - loss: 3.8093 - accuracy: 0.0776\n",
      "Epoch 00109: val_loss improved from 3.73280 to 3.71976, saving model to VGGNet.h5\n",
      "42/41 [==============================] - 493s 12s/step - loss: 3.8093 - accuracy: 0.0776 - val_loss: 3.7198 - val_accuracy: 0.1051\n",
      "Epoch 110/150\n",
      "42/41 [==============================] - ETA: -10s - loss: 3.8043 - accuracy: 0.0746\n",
      "Epoch 00110: val_loss did not improve from 3.71976\n",
      "42/41 [==============================] - 498s 12s/step - loss: 3.8043 - accuracy: 0.0746 - val_loss: 3.7223 - val_accuracy: 0.1117\n",
      "Epoch 111/150\n",
      "42/41 [==============================] - ETA: -10s - loss: 3.8046 - accuracy: 0.0803\n",
      "Epoch 00111: val_loss did not improve from 3.71976\n",
      "42/41 [==============================] - 484s 12s/step - loss: 3.8046 - accuracy: 0.0803 - val_loss: 3.7470 - val_accuracy: 0.1051\n"
     ]
    },
    {
     "name": "stdout",
     "output_type": "stream",
     "text": [
      "Epoch 112/150\n",
      "42/41 [==============================] - ETA: -10s - loss: 3.7972 - accuracy: 0.0791\n",
      "Epoch 00112: val_loss did not improve from 3.71976\n",
      "42/41 [==============================] - 483s 12s/step - loss: 3.7972 - accuracy: 0.0791 - val_loss: 3.7214 - val_accuracy: 0.1030\n",
      "Epoch 113/150\n",
      "42/41 [==============================] - ETA: -10s - loss: 3.7984 - accuracy: 0.0766\n",
      "Epoch 00113: val_loss did not improve from 3.71976\n",
      "42/41 [==============================] - 493s 12s/step - loss: 3.7984 - accuracy: 0.0766 - val_loss: 3.7259 - val_accuracy: 0.1051\n",
      "Epoch 114/150\n",
      "42/41 [==============================] - ETA: -10s - loss: 3.7964 - accuracy: 0.0742\n",
      "Epoch 00114: val_loss did not improve from 3.71976\n",
      "42/41 [==============================] - 485s 12s/step - loss: 3.7964 - accuracy: 0.0742 - val_loss: 3.7358 - val_accuracy: 0.1008\n",
      "Epoch 115/150\n",
      "42/41 [==============================] - ETA: -10s - loss: 3.7924 - accuracy: 0.0761\n",
      "Epoch 00115: val_loss improved from 3.71976 to 3.71423, saving model to VGGNet.h5\n",
      "42/41 [==============================] - 493s 12s/step - loss: 3.7924 - accuracy: 0.0761 - val_loss: 3.7142 - val_accuracy: 0.1084\n",
      "Epoch 116/150\n",
      "42/41 [==============================] - ETA: -10s - loss: 3.7743 - accuracy: 0.0820\n",
      "Epoch 00116: val_loss did not improve from 3.71423\n",
      "42/41 [==============================] - 486s 12s/step - loss: 3.7743 - accuracy: 0.0820 - val_loss: 3.7174 - val_accuracy: 0.1161\n",
      "Epoch 117/150\n",
      "42/41 [==============================] - ETA: -10s - loss: 3.7953 - accuracy: 0.0792\n",
      "Epoch 00117: val_loss did not improve from 3.71423\n",
      "42/41 [==============================] - 493s 12s/step - loss: 3.7953 - accuracy: 0.0792 - val_loss: 3.7285 - val_accuracy: 0.1051\n",
      "Epoch 118/150\n",
      "42/41 [==============================] - ETA: -10s - loss: 3.7956 - accuracy: 0.0772\n",
      "Epoch 00118: val_loss did not improve from 3.71423\n",
      "42/41 [==============================] - 483s 12s/step - loss: 3.7956 - accuracy: 0.0772 - val_loss: 3.7234 - val_accuracy: 0.1041\n",
      "Epoch 119/150\n",
      "42/41 [==============================] - ETA: -10s - loss: 3.7709 - accuracy: 0.0828\n",
      "Epoch 00119: val_loss improved from 3.71423 to 3.70550, saving model to VGGNet.h5\n",
      "42/41 [==============================] - 502s 12s/step - loss: 3.7709 - accuracy: 0.0828 - val_loss: 3.7055 - val_accuracy: 0.1106\n",
      "Epoch 120/150\n",
      "42/41 [==============================] - ETA: -10s - loss: 3.7960 - accuracy: 0.0820\n",
      "Epoch 00120: val_loss improved from 3.70550 to 3.70444, saving model to VGGNet.h5\n",
      "42/41 [==============================] - 493s 12s/step - loss: 3.7960 - accuracy: 0.0820 - val_loss: 3.7044 - val_accuracy: 0.1073\n",
      "Epoch 121/150\n",
      "42/41 [==============================] - ETA: -10s - loss: 3.7713 - accuracy: 0.0827\n",
      "Epoch 00121: val_loss did not improve from 3.70444\n",
      "42/41 [==============================] - 485s 12s/step - loss: 3.7713 - accuracy: 0.0827 - val_loss: 3.7164 - val_accuracy: 0.0997\n",
      "Epoch 122/150\n",
      "42/41 [==============================] - ETA: -10s - loss: 3.7845 - accuracy: 0.0789\n",
      "Epoch 00122: val_loss did not improve from 3.70444\n",
      "42/41 [==============================] - 485s 12s/step - loss: 3.7845 - accuracy: 0.0789 - val_loss: 3.7220 - val_accuracy: 0.0986\n",
      "Epoch 123/150\n",
      "42/41 [==============================] - ETA: -10s - loss: 3.7669 - accuracy: 0.0774\n",
      "Epoch 00123: val_loss improved from 3.70444 to 3.70233, saving model to VGGNet.h5\n",
      "42/41 [==============================] - 492s 12s/step - loss: 3.7669 - accuracy: 0.0774 - val_loss: 3.7023 - val_accuracy: 0.1106\n",
      "Epoch 124/150\n",
      "42/41 [==============================] - ETA: -10s - loss: 3.7663 - accuracy: 0.0871\n",
      "Epoch 00124: val_loss did not improve from 3.70233\n",
      "42/41 [==============================] - 494s 12s/step - loss: 3.7663 - accuracy: 0.0871 - val_loss: 3.7079 - val_accuracy: 0.1008\n",
      "Epoch 125/150\n",
      "42/41 [==============================] - ETA: -10s - loss: 3.7729 - accuracy: 0.0810\n",
      "Epoch 00125: val_loss improved from 3.70233 to 3.69726, saving model to VGGNet.h5\n",
      "42/41 [==============================] - 492s 12s/step - loss: 3.7729 - accuracy: 0.0810 - val_loss: 3.6973 - val_accuracy: 0.1030\n",
      "Epoch 126/150\n",
      "42/41 [==============================] - ETA: -10s - loss: 3.7652 - accuracy: 0.0867\n",
      "Epoch 00126: val_loss improved from 3.69726 to 3.69414, saving model to VGGNet.h5\n",
      "42/41 [==============================] - 492s 12s/step - loss: 3.7652 - accuracy: 0.0867 - val_loss: 3.6941 - val_accuracy: 0.1150\n",
      "Epoch 127/150\n",
      "42/41 [==============================] - ETA: -10s - loss: 3.7610 - accuracy: 0.0858\n",
      "Epoch 00127: val_loss did not improve from 3.69414\n",
      "42/41 [==============================] - 484s 12s/step - loss: 3.7610 - accuracy: 0.0858 - val_loss: 3.7053 - val_accuracy: 0.1117\n",
      "Epoch 128/150\n",
      "42/41 [==============================] - ETA: -10s - loss: 3.7598 - accuracy: 0.0840\n",
      "Epoch 00128: val_loss improved from 3.69414 to 3.68921, saving model to VGGNet.h5\n",
      "42/41 [==============================] - 499s 12s/step - loss: 3.7598 - accuracy: 0.0840 - val_loss: 3.6892 - val_accuracy: 0.1117\n",
      "Epoch 129/150\n",
      "42/41 [==============================] - ETA: -10s - loss: 3.7665 - accuracy: 0.0820\n",
      "Epoch 00129: val_loss did not improve from 3.68921\n",
      "42/41 [==============================] - 487s 12s/step - loss: 3.7665 - accuracy: 0.0820 - val_loss: 3.6973 - val_accuracy: 0.1084\n",
      "Epoch 130/150\n",
      "42/41 [==============================] - ETA: -10s - loss: 3.7647 - accuracy: 0.0841\n",
      "Epoch 00130: val_loss improved from 3.68921 to 3.68749, saving model to VGGNet.h5\n",
      "42/41 [==============================] - 502s 12s/step - loss: 3.7647 - accuracy: 0.0841 - val_loss: 3.6875 - val_accuracy: 0.1139\n",
      "Epoch 131/150\n",
      "42/41 [==============================] - ETA: -10s - loss: 3.7504 - accuracy: 0.0865\n",
      "Epoch 00131: val_loss improved from 3.68749 to 3.68460, saving model to VGGNet.h5\n",
      "42/41 [==============================] - 501s 12s/step - loss: 3.7504 - accuracy: 0.0865 - val_loss: 3.6846 - val_accuracy: 0.1051\n",
      "Epoch 132/150\n",
      "42/41 [==============================] - ETA: -10s - loss: 3.7631 - accuracy: 0.0814\n",
      "Epoch 00132: val_loss did not improve from 3.68460\n",
      "42/41 [==============================] - 485s 12s/step - loss: 3.7631 - accuracy: 0.0814 - val_loss: 3.6951 - val_accuracy: 0.1041\n",
      "Epoch 133/150\n",
      "42/41 [==============================] - ETA: -10s - loss: 3.7482 - accuracy: 0.0820\n",
      "Epoch 00133: val_loss improved from 3.68460 to 3.67090, saving model to VGGNet.h5\n",
      "42/41 [==============================] - 495s 12s/step - loss: 3.7482 - accuracy: 0.0820 - val_loss: 3.6709 - val_accuracy: 0.1172\n",
      "Epoch 134/150\n",
      "42/41 [==============================] - ETA: -10s - loss: 3.7454 - accuracy: 0.0863\n",
      "Epoch 00134: val_loss improved from 3.67090 to 3.66471, saving model to VGGNet.h5\n",
      "42/41 [==============================] - 513s 12s/step - loss: 3.7454 - accuracy: 0.0863 - val_loss: 3.6647 - val_accuracy: 0.1172\n",
      "Epoch 135/150\n",
      "42/41 [==============================] - ETA: -10s - loss: 3.7439 - accuracy: 0.0823\n",
      "Epoch 00135: val_loss did not improve from 3.66471\n",
      "42/41 [==============================] - 487s 12s/step - loss: 3.7439 - accuracy: 0.0823 - val_loss: 3.6694 - val_accuracy: 0.1150\n",
      "Epoch 136/150\n",
      "42/41 [==============================] - ETA: -10s - loss: 3.7405 - accuracy: 0.0856\n",
      "Epoch 00136: val_loss did not improve from 3.66471\n",
      "42/41 [==============================] - 484s 12s/step - loss: 3.7405 - accuracy: 0.0856 - val_loss: 3.6757 - val_accuracy: 0.1161\n",
      "Epoch 137/150\n",
      "42/41 [==============================] - ETA: -10s - loss: 3.7516 - accuracy: 0.0840\n",
      "Epoch 00137: val_loss did not improve from 3.66471\n",
      "42/41 [==============================] - 485s 12s/step - loss: 3.7516 - accuracy: 0.0840 - val_loss: 3.6685 - val_accuracy: 0.1084\n",
      "Epoch 138/150\n",
      "42/41 [==============================] - ETA: -10s - loss: 3.7258 - accuracy: 0.0880\n",
      "Epoch 00138: val_loss improved from 3.66471 to 3.66029, saving model to VGGNet.h5\n",
      "42/41 [==============================] - 496s 12s/step - loss: 3.7258 - accuracy: 0.0880 - val_loss: 3.6603 - val_accuracy: 0.1194\n",
      "Epoch 139/150\n",
      "42/41 [==============================] - ETA: -10s - loss: 3.7405 - accuracy: 0.0916\n",
      "Epoch 00139: val_loss did not improve from 3.66029\n",
      "42/41 [==============================] - 490s 12s/step - loss: 3.7405 - accuracy: 0.0916 - val_loss: 3.6624 - val_accuracy: 0.1216\n"
     ]
    },
    {
     "name": "stdout",
     "output_type": "stream",
     "text": [
      "Epoch 140/150\n",
      "42/41 [==============================] - ETA: -10s - loss: 3.7309 - accuracy: 0.0837\n",
      "Epoch 00140: val_loss did not improve from 3.66029\n",
      "42/41 [==============================] - 494s 12s/step - loss: 3.7309 - accuracy: 0.0837 - val_loss: 3.6695 - val_accuracy: 0.1150\n",
      "Epoch 141/150\n",
      "42/41 [==============================] - ETA: -10s - loss: 3.7268 - accuracy: 0.0863\n",
      "Epoch 00141: val_loss did not improve from 3.66029\n",
      "42/41 [==============================] - 498s 12s/step - loss: 3.7268 - accuracy: 0.0863 - val_loss: 3.6637 - val_accuracy: 0.1095\n",
      "Epoch 142/150\n",
      "42/41 [==============================] - ETA: -10s - loss: 3.7323 - accuracy: 0.0865\n",
      "Epoch 00142: val_loss did not improve from 3.66029\n",
      "42/41 [==============================] - 496s 12s/step - loss: 3.7323 - accuracy: 0.0865 - val_loss: 3.6698 - val_accuracy: 0.1161\n",
      "Epoch 143/150\n",
      "42/41 [==============================] - ETA: -11s - loss: 3.7235 - accuracy: 0.0891\n",
      "Epoch 00143: val_loss did not improve from 3.66029\n",
      "42/41 [==============================] - 543s 13s/step - loss: 3.7235 - accuracy: 0.0891 - val_loss: 3.6610 - val_accuracy: 0.1128\n",
      "Epoch 144/150\n",
      "42/41 [==============================] - ETA: -11s - loss: 3.7324 - accuracy: 0.0865\n",
      "Epoch 00144: val_loss improved from 3.66029 to 3.64815, saving model to VGGNet.h5\n",
      "42/41 [==============================] - 571s 14s/step - loss: 3.7324 - accuracy: 0.0865 - val_loss: 3.6482 - val_accuracy: 0.1150\n",
      "Epoch 145/150\n",
      "42/41 [==============================] - ETA: -11s - loss: 3.7278 - accuracy: 0.0939\n",
      "Epoch 00145: val_loss did not improve from 3.64815\n",
      "42/41 [==============================] - 525s 13s/step - loss: 3.7278 - accuracy: 0.0939 - val_loss: 3.6536 - val_accuracy: 0.1084\n",
      "Epoch 146/150\n",
      "42/41 [==============================] - ETA: -10s - loss: 3.7056 - accuracy: 0.1009\n",
      "Epoch 00146: val_loss did not improve from 3.64815\n",
      "42/41 [==============================] - 490s 12s/step - loss: 3.7056 - accuracy: 0.1009 - val_loss: 3.6495 - val_accuracy: 0.1216\n",
      "Epoch 147/150\n",
      "42/41 [==============================] - ETA: -11s - loss: 3.7247 - accuracy: 0.0889\n",
      "Epoch 00147: val_loss did not improve from 3.64815\n",
      "42/41 [==============================] - 533s 13s/step - loss: 3.7247 - accuracy: 0.0889 - val_loss: 3.6546 - val_accuracy: 0.1150\n",
      "Epoch 148/150\n",
      "42/41 [==============================] - ETA: -11s - loss: 3.7116 - accuracy: 0.0873\n",
      "Epoch 00148: val_loss did not improve from 3.64815\n",
      "42/41 [==============================] - 540s 13s/step - loss: 3.7116 - accuracy: 0.0873 - val_loss: 3.6541 - val_accuracy: 0.1117\n",
      "Epoch 149/150\n",
      "42/41 [==============================] - ETA: -10s - loss: 3.7301 - accuracy: 0.0933\n",
      "Epoch 00149: val_loss did not improve from 3.64815\n",
      "42/41 [==============================] - 497s 12s/step - loss: 3.7301 - accuracy: 0.0933 - val_loss: 3.6529 - val_accuracy: 0.1150\n",
      "Epoch 150/150\n",
      "42/41 [==============================] - ETA: -10s - loss: 3.7212 - accuracy: 0.0922\n",
      "Epoch 00150: val_loss did not improve from 3.64815\n",
      "42/41 [==============================] - 496s 12s/step - loss: 3.7212 - accuracy: 0.0922 - val_loss: 3.6539 - val_accuracy: 0.1161\n"
     ]
    }
   ],
   "source": [
    "history = model.fit(image_generator.flow(x_train, y_train, batch_size=128), steps_per_epoch=x_train.shape[0]/200, epochs=150, shuffle=True, callbacks=[early_stopping, model_checkPoint], validation_data=(x_val, y_val))"
   ]
  },
  {
   "cell_type": "code",
   "execution_count": 36,
   "metadata": {
    "id": "Sxr6gdeZQUsb"
   },
   "outputs": [],
   "source": [
    "model.load_weights('VGGNet.h5')"
   ]
  },
  {
   "cell_type": "code",
   "execution_count": 37,
   "metadata": {
    "id": "D-vdWwPAQUsi"
   },
   "outputs": [
    {
     "name": "stdout",
     "output_type": "stream",
     "text": [
      "72/72 [==============================] - 49s 684ms/step - loss: 3.6387 - accuracy: 0.1095\n",
      "\n",
      "Loss: 3.6387, Acc: 0.1095\n"
     ]
    }
   ],
   "source": [
    "loss, accuracy = model.evaluate(x_test, y_test)\n",
    "\n",
    "print('\\nLoss: {:.4f}, Acc: {:.4f}'.format(loss, accuracy))"
   ]
  },
  {
   "cell_type": "code",
   "execution_count": 38,
   "metadata": {
    "id": "KZVEqVynQUsl"
   },
   "outputs": [],
   "source": [
    "def plot_loss(history):\n",
    "    plt.plot(history.history['loss'])\n",
    "    plt.plot(history.history['val_loss'])\n",
    "    plt.title('Model Loss')\n",
    "    plt.ylabel('Loss')\n",
    "    plt.xlabel('Epoch')\n",
    "    plt.legend(['Train', 'Validation'], loc=0)\n",
    "\n",
    "def plot_acc(history):\n",
    "    plt.plot(history.history['accuracy'])\n",
    "    plt.plot(history.history['val_accuracy'])\n",
    "    plt.title('Model Accuracy')\n",
    "    plt.ylabel('Accuracy')\n",
    "    plt.xlabel('Epoch')\n",
    "    plt.legend(['Train', 'Validation'], loc=0)"
   ]
  },
  {
   "cell_type": "code",
   "execution_count": 39,
   "metadata": {
    "id": "-EeALS89QUsv"
   },
   "outputs": [
    {
     "data": {
      "image/png": "[encoded data removed]",
      "text/plain": [
       "<Figure size 432x288 with 1 Axes>"
      ]
     },
     "metadata": {
      "needs_background": "light"
     },
     "output_type": "display_data"
    }
   ],
   "source": [
    "plot_loss(history)\n",
    "plt.show()"
   ]
  },
  {
   "cell_type": "code",
   "execution_count": 40,
   "metadata": {
    "id": "Q9-xC5NEQUsz"
   },
   "outputs": [
    {
     "data": {
      "image/png": "[encoded data removed]",
      "text/plain": [
       "<Figure size 432x288 with 1 Axes>"
      ]
     },
     "metadata": {
      "needs_background": "light"
     },
     "output_type": "display_data"
    }
   ],
   "source": [
    "plot_acc(history)\n",
    "plt.show()"
   ]
  },
  {
   "cell_type": "code",
   "execution_count": 41,
   "metadata": {
    "id": "RoqFV_-kQUs3"
   },
   "outputs": [],
   "source": [
    "predictions = model.predict(x_test)"
   ]
  },
  {
   "cell_type": "code",
   "execution_count": 43,
   "metadata": {
    "id": "EHgqk8ijQUtA"
   },
   "outputs": [
    {
     "data": {
      "image/png": "[encoded data removed]",
      "text/plain": [
       "<Figure size 1368x720 with 16 Axes>"
      ]
     },
     "metadata": {},
     "output_type": "display_data"
    }
   ],
   "source": [
    "plt.figure(1 , figsize = (19 , 10))\n",
    "n = 0 \n",
    "\n",
    "for i in range(16):\n",
    "    n += 1 \n",
    "    r = np.random.randint( 0, x_test.shape[0], 1)\n",
    "    \n",
    "    plt.subplot(4, 4, n)\n",
    "    plt.subplots_adjust(hspace = 0.3, wspace = 0.3)\n",
    "    \n",
    "    plt.imshow(x_test[r[0]])\n",
    "    plt.title('Actual = {}, \\nPredicted = {}'.format(np.argpartition(y_test[r[0]],-1)[-1:] , np.argpartition(predictions[r[0]][y_test[r[0]]],-1)[-1:]))\n",
    "    plt.xticks([]) , plt.yticks([])\n",
    "\n",
    "plt.show()"
   ]
  }
 ],
 "metadata": {
  "colab": {
   "name": "7-3. VGGNet수정3.ipynb",
   "provenance": []
  },
  "kernelspec": {
   "display_name": "Python 3",
   "language": "python",
   "name": "python3"
  },
  "language_info": {
   "codemirror_mode": {
    "name": "ipython",
    "version": 3
   },
   "file_extension": ".py",
   "mimetype": "text/x-python",
   "name": "python",
   "nbconvert_exporter": "python",
   "pygments_lexer": "ipython3",
   "version": "3.8.3"
  }
 },
 "nbformat": 4,
 "nbformat_minor": 1
}
